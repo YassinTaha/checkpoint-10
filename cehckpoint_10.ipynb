{
  "nbformat": 4,
  "nbformat_minor": 0,
  "metadata": {
    "colab": {
      "provenance": []
    },
    "kernelspec": {
      "name": "python3",
      "display_name": "Python 3"
    },
    "language_info": {
      "name": "python"
    }
  },
  "cells": [
    {
      "cell_type": "code",
      "execution_count": 18,
      "metadata": {
        "colab": {
          "base_uri": "https://localhost:8080/",
          "height": 88
        },
        "id": "Ayd72ZqRDlRM",
        "outputId": "43fd7a6c-83be-439c-9930-ef2f624ca829"
      },
      "outputs": [
        {
          "output_type": "stream",
          "name": "stdout",
          "text": [
            "5\n",
            "8\n",
            "9\n"
          ]
        },
        {
          "output_type": "execute_result",
          "data": {
            "text/plain": [
              "'k is found'"
            ],
            "application/vnd.google.colaboratory.intrinsic+json": {
              "type": "string"
            }
          },
          "metadata": {},
          "execution_count": 18
        }
      ],
      "source": [
        "#question 1\n",
        "def binary_search(item_list,item):\n",
        "\tfirst = 0\n",
        "\tlast = len(item_list)-1\n",
        "\tfound = False\n",
        "\twhile( first<=last and not found):\n",
        "\t\tmid = (first + last)//2\n",
        "\t\tif item_list[mid] == item :\n",
        "\t\t\tfound = True\n",
        "\t\telse:\n",
        "\t\t\tif item < item_list[mid]:\n",
        "\t\t\t\tlast = mid - 1\n",
        "\t\t\telse:\n",
        "\t\t\t\tfirst = mid + 1\t\n",
        "\treturn found\n",
        "\t\n",
        "print(binary_search([1,2,3,5,8], 6))\n",
        "print(binary_search([1,2,3,5,8], 5))\n"
      ]
    },
    {
      "cell_type": "code",
      "source": [
        "#question 2\n",
        "a=int(input())\n",
        "b=int(input())\n",
        "power = a**b\n",
        "print(power)"
      ],
      "metadata": {
        "colab": {
          "base_uri": "https://localhost:8080/"
        },
        "id": "pJf9W1FoD0WR",
        "outputId": "21cdb8ee-8e7f-4802-90e4-37aeab08c3cd"
      },
      "execution_count": 15,
      "outputs": [
        {
          "output_type": "stream",
          "name": "stdout",
          "text": [
            "3\n",
            "4\n",
            "81\n"
          ]
        }
      ]
    },
    {
      "cell_type": "code",
      "source": [
        "#question 3\n",
        "def bubbleSort(nlist):\n",
        "    for passnum in range(len(nlist)-1,0,-1):\n",
        "        for i in range(passnum):\n",
        "            if nlist[i]>nlist[i+1]:\n",
        "                temp = nlist[i]\n",
        "                nlist[i] = nlist[i+1]\n",
        "                nlist[i+1] = temp\n",
        "    return nlist\n",
        "\n",
        "nlist = [29,13,22,37,52,49,46,71,56]\n",
        "bubbleSort(nlist)\n"
      ],
      "metadata": {
        "colab": {
          "base_uri": "https://localhost:8080/"
        },
        "id": "_EgHBCGKHUQq",
        "outputId": "9462f20c-bcc8-4816-e744-58b715821515"
      },
      "execution_count": 19,
      "outputs": [
        {
          "output_type": "execute_result",
          "data": {
            "text/plain": [
              "[13, 22, 29, 37, 46, 49, 52, 56, 71]"
            ]
          },
          "metadata": {},
          "execution_count": 19
        }
      ]
    },
    {
      "cell_type": "code",
      "source": [
        "#question 4\n",
        "def mergeSort(myList):\n",
        "    if len(myList) > 1:\n",
        "        mid = len(myList) // 2\n",
        "        left = myList[:mid]\n",
        "        right = myList[mid:]\n",
        "\n",
        "        mergeSort(left)\n",
        "        mergeSort(right)\n",
        "\n",
        "        i = 0\n",
        "        j = 0\n",
        "        \n",
        "        k = 0\n",
        "        \n",
        "        while i < len(left) and j < len(right):\n",
        "            if left[i] < right[j]:\n",
        "              myList[k] = left[i]\n",
        "              i += 1\n",
        "            else:\n",
        "                myList[k] = right[j]\n",
        "                j += 1\n",
        "            k += 1\n",
        "\n",
        "        while i < len(left):\n",
        "            myList[k] = left[i]\n",
        "            i += 1\n",
        "            k += 1\n",
        "\n",
        "        while j < len(right):\n",
        "            myList[k]=right[j]\n",
        "            j += 1\n",
        "            k += 1\n",
        "\n",
        "myList = [29,13,22,37,52,49,46,71,56]\n",
        "mergeSort(myList)\n",
        "print(myList)"
      ],
      "metadata": {
        "colab": {
          "base_uri": "https://localhost:8080/"
        },
        "id": "4kzrL6aJIzOv",
        "outputId": "9f8aba1b-88c8-4222-9d1e-ec4f8cd338d4"
      },
      "execution_count": 17,
      "outputs": [
        {
          "output_type": "stream",
          "name": "stdout",
          "text": [
            "[13, 22, 29, 37, 46, 49, 52, 56, 71]\n"
          ]
        }
      ]
    },
    {
      "cell_type": "code",
      "source": [
        "def quickSort(data_list):\n",
        "   quickSortHlp(data_list,0,len(data_list)-1)\n",
        "\n",
        "def quickSortHlp(data_list,first,last):\n",
        "   if first < last:\n",
        "\n",
        "       splitpoint = partition(data_list,first,last)\n",
        "\n",
        "       quickSortHlp(data_list,first,splitpoint-1)\n",
        "       quickSortHlp(data_list,splitpoint+1,last)\n",
        "\n",
        "\n",
        "def partition(data_list,first,last):\n",
        "   pivotvalue = data_list[first]\n",
        "\n",
        "   leftmark = first+1\n",
        "   rightmark = last\n",
        "\n",
        "   done = False\n",
        "   while not done:\n",
        "\n",
        "       while leftmark <= rightmark and data_list[leftmark] <= pivotvalue:\n",
        "           leftmark = leftmark + 1\n",
        "\n",
        "       while data_list[rightmark] >= pivotvalue and rightmark >= leftmark:\n",
        "           rightmark = rightmark -1\n",
        "\n",
        "       if rightmark < leftmark:\n",
        "           done = True\n",
        "       else:\n",
        "           temp = data_list[leftmark]\n",
        "           data_list[leftmark] = data_list[rightmark]\n",
        "           data_list[rightmark] = temp\n",
        "\n",
        "   temp = data_list[first]\n",
        "   data_list[first] = data_list[rightmark]\n",
        "   data_list[rightmark] = temp\n",
        "\n",
        "\n",
        "   return rightmark\n",
        "\n",
        "data_list = [29,13,22,37,52,49,46,71,56]\n",
        "quickSort(data_list)\n",
        "print(data_list)\n"
      ],
      "metadata": {
        "colab": {
          "base_uri": "https://localhost:8080/"
        },
        "id": "k4xTv1N2M4cX",
        "outputId": "7b646474-359b-44f0-b6f1-114dd0cf7948"
      },
      "execution_count": 20,
      "outputs": [
        {
          "output_type": "stream",
          "name": "stdout",
          "text": [
            "[13, 22, 29, 37, 46, 49, 52, 56, 71]\n"
          ]
        }
      ]
    },
    {
      "cell_type": "code",
      "source": [],
      "metadata": {
        "id": "AQxE-1XHN7ob"
      },
      "execution_count": null,
      "outputs": []
    }
  ]
}